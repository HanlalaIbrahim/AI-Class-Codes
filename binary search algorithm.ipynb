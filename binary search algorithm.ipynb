{
 "cells": [
  {
   "cell_type": "markdown",
   "id": "05c175b9",
   "metadata": {},
   "source": [
    "# BINARY SEARCH ALGORIYHM"
   ]
  },
  {
   "cell_type": "code",
   "execution_count": 1,
   "id": "7ab7736c",
   "metadata": {},
   "outputs": [],
   "source": [
    " data = [14,4,7,8,3,10,11,77,13,0,69]"
   ]
  },
  {
   "cell_type": "code",
   "execution_count": 2,
   "id": "7348abe0",
   "metadata": {},
   "outputs": [
    {
     "name": "stdout",
     "output_type": "stream",
     "text": [
      "[14, 4, 7, 8, 3, 10, 11, 77, 13, 0, 69]\n"
     ]
    }
   ],
   "source": [
    "print(data)"
   ]
  },
  {
   "cell_type": "code",
   "execution_count": 22,
   "id": "53c2b592",
   "metadata": {},
   "outputs": [],
   "source": [
    "data.sort(reverse = True)"
   ]
  },
  {
   "cell_type": "code",
   "execution_count": 23,
   "id": "d4262098",
   "metadata": {},
   "outputs": [
    {
     "name": "stdout",
     "output_type": "stream",
     "text": [
      "[77, 69, 14, 13, 11, 10, 8, 7, 4, 3, 0]\n"
     ]
    }
   ],
   "source": [
    "print(data)"
   ]
  },
  {
   "cell_type": "code",
   "execution_count": 26,
   "id": "cdb16ff9",
   "metadata": {},
   "outputs": [
    {
     "name": "stdout",
     "output_type": "stream",
     "text": [
      "77\n"
     ]
    }
   ],
   "source": [
    "elem=int(input())"
   ]
  },
  {
   "cell_type": "code",
   "execution_count": 27,
   "id": "c44251ca",
   "metadata": {},
   "outputs": [],
   "source": [
    "def binary_search(data,elem):\n",
    "\n",
    "    low = 0\n",
    "    high = len(data) - 1\n",
    " \n",
    "    while low <= high:\n",
    "    \n",
    "        middle = (low + high)//2\n",
    "        if data[middle] == elem:\n",
    "            print(f\"The searching Element {elem} is present at index{middle}\")\n",
    "            break\n",
    "        \n",
    "        elif data[middle] > elem:\n",
    "            high = middle - 1\n",
    "        \n",
    "        else :\n",
    "            low = middle +1\n",
    "    if data[middle] !=elem:\n",
    "        print(f\"the seatrch element {elem} is not found\")\n",
    "        return 1"
   ]
  },
  {
   "cell_type": "code",
   "execution_count": 28,
   "id": "07d06e79",
   "metadata": {
    "scrolled": true
   },
   "outputs": [
    {
     "name": "stdout",
     "output_type": "stream",
     "text": [
      "the seatrch element 77 is not found\n"
     ]
    },
    {
     "data": {
      "text/plain": [
       "1"
      ]
     },
     "execution_count": 28,
     "metadata": {},
     "output_type": "execute_result"
    }
   ],
   "source": [
    "binary_search(data,elem)"
   ]
  },
  {
   "cell_type": "code",
   "execution_count": null,
   "id": "56067f81",
   "metadata": {},
   "outputs": [],
   "source": []
  }
 ],
 "metadata": {
  "kernelspec": {
   "display_name": "Python 3 (ipykernel)",
   "language": "python",
   "name": "python3"
  },
  "language_info": {
   "codemirror_mode": {
    "name": "ipython",
    "version": 3
   },
   "file_extension": ".py",
   "mimetype": "text/x-python",
   "name": "python",
   "nbconvert_exporter": "python",
   "pygments_lexer": "ipython3",
   "version": "3.9.13"
  }
 },
 "nbformat": 4,
 "nbformat_minor": 5
}
