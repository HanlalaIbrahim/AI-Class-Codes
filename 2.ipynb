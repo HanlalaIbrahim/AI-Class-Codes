{
 "cells": [
  {
   "cell_type": "markdown",
   "id": "d074881b",
   "metadata": {},
   "source": [
    "# FUNCTION"
   ]
  },
  {
   "cell_type": "code",
   "execution_count": 10,
   "id": "5aed7500",
   "metadata": {},
   "outputs": [],
   "source": [
    "def ADD(a,b,d):\n",
    "    c=a+b+d\n",
    "    return c"
   ]
  },
  {
   "cell_type": "code",
   "execution_count": 12,
   "id": "1f600ff3",
   "metadata": {},
   "outputs": [
    {
     "data": {
      "text/plain": [
       "21"
      ]
     },
     "execution_count": 12,
     "metadata": {},
     "output_type": "execute_result"
    }
   ],
   "source": [
    "ADD(5,6,10)"
   ]
  },
  {
   "cell_type": "code",
   "execution_count": 13,
   "id": "855c4f4c",
   "metadata": {},
   "outputs": [],
   "source": [
    "def fd(amt,perc,dur):\n",
    "    interest=amt*perc\n",
    "    tintr=interest*dur\n",
    "    print(\"Annual interest is {}\".format(interest))\n",
    "    print(\"Total interest gained is {}\".format(tintr))"
   ]
  },
  {
   "cell_type": "code",
   "execution_count": 15,
   "id": "97bd7813",
   "metadata": {},
   "outputs": [
    {
     "name": "stdout",
     "output_type": "stream",
     "text": [
      "Annual interest is 60000.0\n",
      "Total interest gained is 240000.0\n"
     ]
    }
   ],
   "source": [
    "fd(100000,0.6,4)"
   ]
  },
  {
   "cell_type": "code",
   "execution_count": 18,
   "id": "f4492b63",
   "metadata": {},
   "outputs": [],
   "source": [
    "def savings(amt,perc):\n",
    "    interest = amt*perc\n",
    "    print(\"Annual interest is {}\".format(interest))"
   ]
  },
  {
   "cell_type": "code",
   "execution_count": 19,
   "id": "57e45e8e",
   "metadata": {},
   "outputs": [
    {
     "name": "stdout",
     "output_type": "stream",
     "text": [
      "Annual interest is 4000.0\n"
     ]
    }
   ],
   "source": [
    "savings(10000,0.4)"
   ]
  },
  {
   "cell_type": "code",
   "execution_count": null,
   "id": "e4d50178",
   "metadata": {},
   "outputs": [],
   "source": [
    "def intrst(typ):\n",
    "    if typ =='SB':\n",
    "        amt = int(input(\"enter amount deposited:\"))\n",
    "        intr=amt*0.4\n",
    "        print(f\"the annual interest is {intr}\")\n",
    "    elif type =='FD':\n",
    "        amt = int(input(\"enter amount deposited:\"))\n",
    "        DUR = int(input(\"enter duration:\"))\n",
    "        TOTAL = amt*0.6*DUR\n",
    "        print(f\"the interest is {TOTAL}\")\n",
    "    else:\n",
    "        print(\"enter valid type\")\n",
    "        \n",
    "dp= input(\"enter acct type\")\n",
    "intrst(dp)\n",
    "\n",
    "\n",
    "        "
   ]
  },
  {
   "cell_type": "code",
   "execution_count": null,
   "id": "5e0f4ca0",
   "metadata": {},
   "outputs": [],
   "source": []
  },
  {
   "cell_type": "code",
   "execution_count": null,
   "id": "d3007e21",
   "metadata": {},
   "outputs": [],
   "source": []
  }
 ],
 "metadata": {
  "kernelspec": {
   "display_name": "Python 3 (ipykernel)",
   "language": "python",
   "name": "python3"
  },
  "language_info": {
   "codemirror_mode": {
    "name": "ipython",
    "version": 3
   },
   "file_extension": ".py",
   "mimetype": "text/x-python",
   "name": "python",
   "nbconvert_exporter": "python",
   "pygments_lexer": "ipython3",
   "version": "3.9.13"
  }
 },
 "nbformat": 4,
 "nbformat_minor": 5
}
