{
 "cells": [
  {
   "cell_type": "markdown",
   "id": "0fbca6ee",
   "metadata": {},
   "source": [
    "#"
   ]
  },
  {
   "cell_type": "markdown",
   "id": "f3bf6663",
   "metadata": {},
   "source": [
    "# dddfgdsfg\n",
    "## fghrgdtg\n",
    "### ergrgv\n",
    "#### fgrtg\n",
    "##### zyxwvutsrqponmlkjihgfedcba\n",
    "###### abcdefghijklmnopqrstuvwxyz"
   ]
  },
  {
   "cell_type": "code",
   "execution_count": 1,
   "id": "de91a59f",
   "metadata": {},
   "outputs": [],
   "source": [
    "a=\"10\""
   ]
  },
  {
   "cell_type": "code",
   "execution_count": 2,
   "id": "ad9d5305",
   "metadata": {},
   "outputs": [
    {
     "ename": "SyntaxError",
     "evalue": "invalid syntax (62411553.py, line 1)",
     "output_type": "error",
     "traceback": [
      "\u001b[1;36m  Input \u001b[1;32mIn [2]\u001b[1;36m\u001b[0m\n\u001b[1;33m    a=\u001b[0m\n\u001b[1;37m      ^\u001b[0m\n\u001b[1;31mSyntaxError\u001b[0m\u001b[1;31m:\u001b[0m invalid syntax\n"
     ]
    }
   ],
   "source": [
    "a="
   ]
  },
  {
   "cell_type": "code",
   "execution_count": null,
   "id": "cc3532c4",
   "metadata": {},
   "outputs": [],
   "source": [
    "a"
   ]
  },
  {
   "cell_type": "code",
   "execution_count": null,
   "id": "107728d0",
   "metadata": {},
   "outputs": [],
   "source": [
    "a='11'"
   ]
  },
  {
   "cell_type": "code",
   "execution_count": null,
   "id": "c327fa7d",
   "metadata": {},
   "outputs": [],
   "source": [
    "a"
   ]
  },
  {
   "cell_type": "code",
   "execution_count": null,
   "id": "006e2767",
   "metadata": {},
   "outputs": [],
   "source": [
    "CLASS=\"PMIST'S CSE_AT Batch\""
   ]
  },
  {
   "cell_type": "code",
   "execution_count": null,
   "id": "bf8aab4a",
   "metadata": {},
   "outputs": [],
   "source": [
    "print(CLASS)"
   ]
  },
  {
   "cell_type": "code",
   "execution_count": null,
   "id": "d4677b72",
   "metadata": {},
   "outputs": [],
   "source": [
    "DEFINATION='AI stands for \"Artificial intelegence\"'"
   ]
  },
  {
   "cell_type": "code",
   "execution_count": null,
   "id": "b76d0f65",
   "metadata": {},
   "outputs": [],
   "source": [
    "print(DEFINATION)"
   ]
  },
  {
   "cell_type": "code",
   "execution_count": null,
   "id": "871449c1",
   "metadata": {},
   "outputs": [],
   "source": [
    "NAME= \"M.G.Hanlala ibrahim\""
   ]
  },
  {
   "cell_type": "code",
   "execution_count": null,
   "id": "581ebe61",
   "metadata": {},
   "outputs": [],
   "source": [
    "print(NAME)"
   ]
  },
  {
   "cell_type": "code",
   "execution_count": null,
   "id": "345225ab",
   "metadata": {},
   "outputs": [],
   "source": [
    "name=input(\"enter your name\")"
   ]
  },
  {
   "cell_type": "raw",
   "id": "2c06c15a",
   "metadata": {},
   "source": [
    "print(name)"
   ]
  },
  {
   "cell_type": "code",
   "execution_count": null,
   "id": "8ea76299",
   "metadata": {},
   "outputs": [],
   "source": [
    "print(\"i am {} {} {} i am from {} i am studing in {}\".format('M.G.','Hanlala','Ibrahim','avoor','PMIST'))"
   ]
  },
  {
   "cell_type": "code",
   "execution_count": 3,
   "id": "b172cdf4",
   "metadata": {},
   "outputs": [
    {
     "name": "stdout",
     "output_type": "stream",
     "text": [
      "are you Bank loan, because you have my intrest\n"
     ]
    }
   ],
   "source": [
    "print(\"are you {}, because you have my {}\".format('Bank loan','intrest'))"
   ]
  },
  {
   "cell_type": "code",
   "execution_count": 1,
   "id": "f50c24a7",
   "metadata": {},
   "outputs": [],
   "source": [
    "name=\"Monkey.D.Luffy\"\n",
    "pase=\"kaizoku ni orava naru\"\n",
    "\n"
   ]
  },
  {
   "cell_type": "code",
   "execution_count": 2,
   "id": "6be326ea",
   "metadata": {},
   "outputs": [
    {
     "name": "stdout",
     "output_type": "stream",
     "text": [
      "ora va Monkey.D.Luffy kaizoku ni orava naru \n"
     ]
    }
   ],
   "source": [
    "print(\"ora va {} {} \".format(name,pase))"
   ]
  },
  {
   "cell_type": "markdown",
   "id": "04e8697d",
   "metadata": {},
   "source": [
    "# DATA TYPE IN PYTHON"
   ]
  },
  {
   "cell_type": "raw",
   "id": "b9d3c775",
   "metadata": {},
   "source": [
    "numeric - integer,float,complex\n",
    "string - string / charater\n",
    "sequence - array,list,tuple,range\n",
    "mapping - dictnary\n",
    "set - set,frozan set\n",
    "boolean\n",
    "binary - byte,byte array,memoryview"
   ]
  },
  {
   "cell_type": "code",
   "execution_count": null,
   "id": "5ad29412",
   "metadata": {},
   "outputs": [],
   "source": [
    "big_three=[\"one piece\",\"naruto\",\"bleach\"]"
   ]
  },
  {
   "cell_type": "code",
   "execution_count": null,
   "id": "9ddf3aa3",
   "metadata": {},
   "outputs": [],
   "source": [
    "type(big_three)"
   ]
  },
  {
   "cell_type": "code",
   "execution_count": null,
   "id": "f35d7382",
   "metadata": {},
   "outputs": [],
   "source": [
    "big_three[0]"
   ]
  },
  {
   "cell_type": "code",
   "execution_count": null,
   "id": "63876350",
   "metadata": {},
   "outputs": [],
   "source": [
    "big_three[1]"
   ]
  },
  {
   "cell_type": "code",
   "execution_count": null,
   "id": "ad97b813",
   "metadata": {},
   "outputs": [],
   "source": [
    "big_three[2]"
   ]
  },
  {
   "cell_type": "code",
   "execution_count": null,
   "id": "69d7c28a",
   "metadata": {},
   "outputs": [],
   "source": [
    "big_three[0]"
   ]
  },
  {
   "cell_type": "markdown",
   "id": "d8e48439",
   "metadata": {},
   "source": [
    "# # suiiiiiiiiiiii"
   ]
  },
  {
   "cell_type": "markdown",
   "id": "fbd61436",
   "metadata": {},
   "source": [
    "# jai sulthan"
   ]
  },
  {
   "cell_type": "code",
   "execution_count": null,
   "id": "5c4ad272",
   "metadata": {},
   "outputs": [],
   "source": [
    "my_identity=('luffy','priate king')"
   ]
  },
  {
   "cell_type": "code",
   "execution_count": null,
   "id": "1225eaac",
   "metadata": {},
   "outputs": [],
   "source": [
    "print('my name is {} i am going to become {}'.format(my_identity[0],my_identity[1]))"
   ]
  },
  {
   "cell_type": "markdown",
   "id": "b8756a00",
   "metadata": {},
   "source": [
    "# TUPLE"
   ]
  },
  {
   "cell_type": "code",
   "execution_count": null,
   "id": "1cf8f170",
   "metadata": {},
   "outputs": [],
   "source": [
    "students_details=('hanlala','B.Tech','(cse)')"
   ]
  },
  {
   "cell_type": "code",
   "execution_count": null,
   "id": "60b1a87a",
   "metadata": {},
   "outputs": [],
   "source": [
    "type(students_details)"
   ]
  },
  {
   "cell_type": "code",
   "execution_count": null,
   "id": "f2590ba2",
   "metadata": {},
   "outputs": [],
   "source": [
    "students_details"
   ]
  },
  {
   "cell_type": "markdown",
   "id": "d710eaa5",
   "metadata": {},
   "source": [
    "# RANGE"
   ]
  },
  {
   "cell_type": "code",
   "execution_count": null,
   "id": "bf5f380c",
   "metadata": {},
   "outputs": [],
   "source": [
    "avr=range(0,100)"
   ]
  },
  {
   "cell_type": "code",
   "execution_count": null,
   "id": "9915a64c",
   "metadata": {},
   "outputs": [],
   "source": [
    "avr"
   ]
  },
  {
   "cell_type": "code",
   "execution_count": null,
   "id": "cf8ab15a",
   "metadata": {},
   "outputs": [],
   "source": [
    "list(avr)"
   ]
  },
  {
   "cell_type": "code",
   "execution_count": null,
   "id": "e4bba1d2",
   "metadata": {},
   "outputs": [],
   "source": [
    "avr=range('a,b,c,d,e,f,g,h,i,j,k,l,m,z')"
   ]
  },
  {
   "cell_type": "code",
   "execution_count": null,
   "id": "74ddc868",
   "metadata": {},
   "outputs": [],
   "source": []
  }
 ],
 "metadata": {
  "kernelspec": {
   "display_name": "Python 3 (ipykernel)",
   "language": "python",
   "name": "python3"
  },
  "language_info": {
   "codemirror_mode": {
    "name": "ipython",
    "version": 3
   },
   "file_extension": ".py",
   "mimetype": "text/x-python",
   "name": "python",
   "nbconvert_exporter": "python",
   "pygments_lexer": "ipython3",
   "version": "3.9.13"
  }
 },
 "nbformat": 4,
 "nbformat_minor": 5
}
