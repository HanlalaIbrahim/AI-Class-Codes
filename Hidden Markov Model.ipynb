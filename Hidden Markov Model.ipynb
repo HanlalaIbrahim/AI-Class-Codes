{
 "cells": [
  {
   "cell_type": "code",
   "execution_count": 1,
   "id": "dd02a0dd",
   "metadata": {},
   "outputs": [
    {
     "name": "stdout",
     "output_type": "stream",
     "text": [
      "Requirement already satisfied: pandas in c:\\programdata\\anaconda3\\envs\\cse\\lib\\site-packages (1.5.2)\n",
      "Requirement already satisfied: pytz>=2020.1 in c:\\programdata\\anaconda3\\envs\\cse\\lib\\site-packages (from pandas) (2022.7)\n",
      "Requirement already satisfied: python-dateutil>=2.8.1 in c:\\programdata\\anaconda3\\envs\\cse\\lib\\site-packages (from pandas) (2.8.2)\n",
      "Requirement already satisfied: numpy>=1.20.3 in c:\\programdata\\anaconda3\\envs\\cse\\lib\\site-packages (from pandas) (1.23.5)\n",
      "Requirement already satisfied: six>=1.5 in c:\\programdata\\anaconda3\\envs\\cse\\lib\\site-packages (from python-dateutil>=2.8.1->pandas) (1.16.0)\n",
      "Note: you may need to restart the kernel to use updated packages.\n"
     ]
    }
   ],
   "source": [
    "pip install pandas"
   ]
  },
  {
   "cell_type": "code",
   "execution_count": 6,
   "id": "4637912e",
   "metadata": {},
   "outputs": [
    {
     "name": "stdout",
     "output_type": "stream",
     "text": [
      "sunny\n",
      "sunny\n",
      "rainy\n",
      "rainy\n",
      "sunny\n",
      "rainy\n",
      "sunny\n",
      "sunny\n"
     ]
    },
    {
     "data": {
      "text/html": [
       "<div>\n",
       "<style scoped>\n",
       "    .dataframe tbody tr th:only-of-type {\n",
       "        vertical-align: middle;\n",
       "    }\n",
       "\n",
       "    .dataframe tbody tr th {\n",
       "        vertical-align: top;\n",
       "    }\n",
       "\n",
       "    .dataframe thead th {\n",
       "        text-align: right;\n",
       "    }\n",
       "</style>\n",
       "<table border=\"1\" class=\"dataframe\">\n",
       "  <thead>\n",
       "    <tr style=\"text-align: right;\">\n",
       "      <th></th>\n",
       "      <th>rainy</th>\n",
       "      <th>sunny</th>\n",
       "    </tr>\n",
       "  </thead>\n",
       "  <tbody>\n",
       "    <tr>\n",
       "      <th>0</th>\n",
       "      <td>0.400091</td>\n",
       "      <td>0.599909</td>\n",
       "    </tr>\n",
       "    <tr>\n",
       "      <th>1</th>\n",
       "      <td>0.306968</td>\n",
       "      <td>0.693032</td>\n",
       "    </tr>\n",
       "    <tr>\n",
       "      <th>2</th>\n",
       "      <td>0.862579</td>\n",
       "      <td>0.137421</td>\n",
       "    </tr>\n",
       "    <tr>\n",
       "      <th>3</th>\n",
       "      <td>0.871773</td>\n",
       "      <td>0.128227</td>\n",
       "    </tr>\n",
       "    <tr>\n",
       "      <th>4</th>\n",
       "      <td>0.402890</td>\n",
       "      <td>0.597110</td>\n",
       "    </tr>\n",
       "    <tr>\n",
       "      <th>5</th>\n",
       "      <td>0.761501</td>\n",
       "      <td>0.238499</td>\n",
       "    </tr>\n",
       "    <tr>\n",
       "      <th>6</th>\n",
       "      <td>0.230763</td>\n",
       "      <td>0.769237</td>\n",
       "    </tr>\n",
       "    <tr>\n",
       "      <th>7</th>\n",
       "      <td>0.173076</td>\n",
       "      <td>0.826924</td>\n",
       "    </tr>\n",
       "  </tbody>\n",
       "</table>\n",
       "</div>"
      ],
      "text/plain": [
       "      rainy     sunny\n",
       "0  0.400091  0.599909\n",
       "1  0.306968  0.693032\n",
       "2  0.862579  0.137421\n",
       "3  0.871773  0.128227\n",
       "4  0.402890  0.597110\n",
       "5  0.761501  0.238499\n",
       "6  0.230763  0.769237\n",
       "7  0.173076  0.826924"
      ]
     },
     "execution_count": 6,
     "metadata": {},
     "output_type": "execute_result"
    }
   ],
   "source": [
    "import pandas as pd\n",
    "from pomegranate import*\n",
    "sunny = DiscreteDistribution({\"raincoat\":0.1,\"hat\":0.9})\n",
    "rainy = DiscreteDistribution({\"raincoat\":0.7,\"hat\":0.3})\n",
    "States = [sunny,rainy]\n",
    "Transition_model = numpy.array([[0.7,0.3],[0.4,0.6]])\n",
    "Initial_State=numpy.array([0.3,0.7])\n",
    "model=HiddenMarkovModel.from_matrix(Transition_model,States,Initial_State,state_names=[\"sunny\",\"rainy\"])\n",
    "model.bake()\n",
    "observations=[\"hat\",\"hat\",\"raincoat\",\"raincoat\",\"hat\",\"raincoat\",\"hat\",\"hat\"]\n",
    "predictions=model.predict(observations)\n",
    "predictions\n",
    "model\n",
    "for prediction in predictions:\n",
    "    print(model.states[prediction].name)\n",
    "predicted_probabilities=model.predict_proba(observations)\n",
    "Most_Likely_Weather=pd.DataFrame(predicted_probabilities,columns\n",
    "                                 = [\"rainy\",\"sunny\"])\n",
    "Most_Likely_Weather"
   ]
  },
  {
   "cell_type": "code",
   "execution_count": null,
   "id": "faf37f70",
   "metadata": {},
   "outputs": [],
   "source": []
  },
  {
   "cell_type": "code",
   "execution_count": null,
   "id": "9916f07f",
   "metadata": {},
   "outputs": [],
   "source": []
  }
 ],
 "metadata": {
  "kernelspec": {
   "display_name": "Python 3 (ipykernel)",
   "language": "python",
   "name": "python3"
  },
  "language_info": {
   "codemirror_mode": {
    "name": "ipython",
    "version": 3
   },
   "file_extension": ".py",
   "mimetype": "text/x-python",
   "name": "python",
   "nbconvert_exporter": "python",
   "pygments_lexer": "ipython3",
   "version": "3.9.13"
  }
 },
 "nbformat": 4,
 "nbformat_minor": 5
}
